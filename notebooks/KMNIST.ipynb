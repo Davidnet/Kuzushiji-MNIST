{
 "cells": [
  {
   "cell_type": "markdown",
   "metadata": {},
   "source": [
    "# Kuzushiji-MNIST"
   ]
  },
  {
   "cell_type": "code",
   "execution_count": 1,
   "metadata": {},
   "outputs": [],
   "source": [
    "import matplotlib.pyplot as plt\n",
    "import numpy as np\n",
    "import tensorflow as tf\n",
    "tf.enable_eager_execution()"
   ]
  },
  {
   "cell_type": "code",
   "execution_count": 2,
   "metadata": {},
   "outputs": [],
   "source": [
    "with np.load(\"/data/kmnist-train-imgs.npz\") as data_images, np.load(\"/data/kmnist-train-labels.npz\") as data_labels:\n",
    "    features = data_images['arr_0']\n",
    "    labels = data_labels['arr_0']"
   ]
  },
  {
   "cell_type": "code",
   "execution_count": 3,
   "metadata": {},
   "outputs": [],
   "source": [
    "kminst_dataset = tf.data.Dataset.from_tensor_slices((features, labels))"
   ]
  },
  {
   "cell_type": "code",
   "execution_count": 4,
   "metadata": {},
   "outputs": [
    {
     "name": "stdout",
     "output_type": "stream",
     "text": [
      "WARNING:tensorflow:From /usr/local/lib/python3.5/dist-packages/tensorflow/python/data/ops/iterator_ops.py:532: colocate_with (from tensorflow.python.framework.ops) is deprecated and will be removed in a future version.\n",
      "Instructions for updating:\n",
      "Colocations handled automatically by placer.\n"
     ]
    }
   ],
   "source": [
    "dataset_iterator = iter(kminst_dataset)"
   ]
  },
  {
   "cell_type": "code",
   "execution_count": 12,
   "metadata": {},
   "outputs": [
    {
     "name": "stdout",
     "output_type": "stream",
     "text": [
      "tf.Tensor(8, shape=(), dtype=uint8)\n"
     ]
    },
    {
     "data": {
      "image/png": "[encoded data removed]",
      "text/plain": [
       "<Figure size 432x288 with 1 Axes>"
      ]
     },
     "metadata": {
      "needs_background": "light"
     },
     "output_type": "display_data"
    }
   ],
   "source": [
    "try:\n",
    "    image, label = next(dataset_iterator)\n",
    "    print(label)\n",
    "    plt.imshow(image)\n",
    "except StopIteration:\n",
    "    print(\"No more dataset to show\")"
   ]
  },
  {
   "cell_type": "code",
   "execution_count": 14,
   "metadata": {},
   "outputs": [],
   "source": [
    "test_dataset = kminst_dataset.take(1000)\n",
    "train_dataset = kminst_dataset.skip(1000)"
   ]
  },
  {
   "cell_type": "code",
   "execution_count": 16,
   "metadata": {},
   "outputs": [
    {
     "name": "stdout",
     "output_type": "stream",
     "text": [
      "(28, 28)\n",
      "()\n"
     ]
    }
   ],
   "source": [
    "for image, label in train_dataset.take(1):\n",
    "    print(image.shape)\n",
    "    print(label.shape)"
   ]
  },
  {
   "cell_type": "code",
   "execution_count": 21,
   "metadata": {},
   "outputs": [
    {
     "data": {
      "text/plain": [
       "<tf.Tensor: id=62, shape=(28, 28), dtype=uint8, numpy=\n",
       "array([[  0,   0,   0,   0,   0,   0,   0,   0,   0,   0,   0,   0,   0,\n",
       "          2, 173, 252, 246, 119,   2,   0,   0,   0,   0,   0,   0,   0,\n",
       "          0,   0],\n",
       "       [  0,   0,   0,   0,   0,   0,   0,   0,   0,   0,   0,   0,  19,\n",
       "        155, 255, 242,  74,   2,   0,   0,   0,   0,   0,   0,   0,   0,\n",
       "          0,   0],\n",
       "       [  0,   0,   0,   0,   0,   0,   0,   0,   0,   0,   0,   1, 154,\n",
       "        255, 225,  52,   1,   0,   0,   0,   0,   0,   0,   0,   0,   0,\n",
       "          0,   0],\n",
       "       [  0,   0,   0,   0,   0,   0,   0,   0,   0,   0,   0, 108, 237,\n",
       "        249,  93,   0,   0,   0,   0,   0,   0,   0,   0,   0,   0,   0,\n",
       "          0,   0],\n",
       "       [  0,   0,   0,   0,   0,   0,   0,   0,   0,   0,  29, 208, 253,\n",
       "        107,   2,   0,   0,   0,   0,   0,   0,   0,   0,   0,   0,   0,\n",
       "          0,   0],\n",
       "       [  0,   0,   0,   0,   0,   0,   0,   0,   1,  78, 200, 233, 157,\n",
       "          4,   0,   0,   0,   0,   0,   0,   0,   0,   0,   0,   0,   0,\n",
       "          0,   0],\n",
       "       [  0,   0,   0,   0,   0,   0,   0,   0,  29, 229, 253, 146,   5,\n",
       "          0,   0,   0,   0,   7,   9,   0,   0,   0,   0,   0,   0,   0,\n",
       "          0,   0],\n",
       "       [  0,   0,   0,   0,   0,   0,   0,  29, 199, 197, 186,  12,   0,\n",
       "          0,   0,   0,  32, 214, 212,  52,   1,   0,   0,   0,   0,   0,\n",
       "          0,   0],\n",
       "       [  0,   0,   0,   0,   0,   0,   3, 159, 250, 255, 152,   0,   0,\n",
       "          0,   2, 105, 228, 253, 254, 233, 143,  20,   0,   0,   0,   0,\n",
       "          0,   0],\n",
       "       [  0,   0,   0,   0,   0,  12,  49, 146, 242, 255, 158,   0,   0,\n",
       "        106, 191, 247, 246, 234, 255, 190, 230, 183,  42,   0,   0,   0,\n",
       "          0,   0],\n",
       "       [  0,   0,   0,   0,  17, 117, 245, 133,  75, 226, 223, 106,  95,\n",
       "        226, 255, 255, 254, 181, 132,  18,  15,  49, 188,  15,   0,   0,\n",
       "          0,   0],\n",
       "       [  0,   0,   0,  28, 212, 214, 244, 127,   4,  63, 242, 255, 255,\n",
       "        255, 255, 248, 174,  15,   0,   0,   0,   0, 120, 161,   8,   0,\n",
       "          0,   0],\n",
       "       [  0,   0,   4, 144, 229, 236, 217,  19,   0,   1,  56, 223, 255,\n",
       "        252, 133,  45,   5,   0,   0,   0,   0,   0, 119, 252,  74,   0,\n",
       "          0,   0],\n",
       "       [  0,   0,  32, 232, 255, 255, 186,   3,   0,   0,   0,  69, 168,\n",
       "         75,   0,   0,   0,   0,   0,   0,   0,   0,  24, 235, 150,   1,\n",
       "          0,   0],\n",
       "       [  0,   0,  62, 185, 249, 166,  37,   0,   0,   0,   0,   0,   0,\n",
       "          0,   0,   0,   0,   0,   0,   0,   0,   0,   0, 109, 196,  87,\n",
       "          0,   0],\n",
       "       [  0,   0,  39, 203, 114,  89,   0,   0,   0,   0,   0,   0,   0,\n",
       "          0,   0,   0,   0,   0,   0,   0,   0,   0,  10, 158, 100,  68,\n",
       "          0,   0],\n",
       "       [  0,   0,   3, 160, 220,  62,   0,   0,   0,   0,   0,   0,   0,\n",
       "          0,   0,   0,   0,   0,   0,   0,   0,   0,  30, 236, 180, 163,\n",
       "          0,   0],\n",
       "       [  0,   0,   0, 111,  92,   2,   0,   0,   0,   0,   0,   0,   0,\n",
       "          0,   0,   0,   0,   0,   0,   0,   0,   0, 110, 247, 177, 102,\n",
       "          0,   0],\n",
       "       [  0,   0,   0,  18,  24,   0,   0,   0,   0,   0,   0,   0,   0,\n",
       "          0,   0,   0,   0,   0,   0,   0,   0,   0, 138, 254, 223,  80,\n",
       "          0,   0],\n",
       "       [  0,   0,   0,   0,   0,   0,   0,   0,   0,   0,   0,   0,   0,\n",
       "          0,   0,   0,   0,   0,   0,   0,   0,  55, 211, 236,  59,  23,\n",
       "          0,   0],\n",
       "       [  0,   0,   0,   0,   0,   0,   0,   0,   0,   0,   0,   0,   0,\n",
       "          0,   0,   0,   0,   0,   0,   4, 115, 189, 244, 192,  19,  27,\n",
       "          0,   0],\n",
       "       [  0,   0,   0,   0,   0,   0,   0,   0,   0,   0,   0,   0,   0,\n",
       "          0,   0,   0,   0,   0,   2,  92, 116, 216, 144,  40,   3,   6,\n",
       "          0,   0],\n",
       "       [  0,   0,   0,   0,   0,   0,   0,   0,   0,   0,   0,   0,   0,\n",
       "          0,   0,   0,   0,   4, 165, 253, 130, 210,  73,   0,   0,   0,\n",
       "          0,   0],\n",
       "       [  0,   0,   0,   0,   0,   0,   0,   0,   0,   0,   0,   0,   0,\n",
       "          0,   0,   1,  51, 153, 246, 254, 224, 101,   5,   0,   0,   0,\n",
       "          0,   0],\n",
       "       [  0,   0,   0,   0,   0,   0,   0,   0,   0,   0,   0,   0,   0,\n",
       "          0,   0,  56, 238, 255, 246, 217,  60,   0,   0,   0,   0,   0,\n",
       "          0,   0],\n",
       "       [  0,   0,   0,   0,   0,   0,   0,   0,   0,   0,   0,   0,   0,\n",
       "          5,  76, 233, 255, 253, 164,  31,   0,   0,   0,   0,   0,   0,\n",
       "          0,   0],\n",
       "       [  0,   0,   0,   0,   0,   0,   0,   0,   0,   0,   0,   0,   8,\n",
       "         55, 230, 255, 248, 160,   6,   0,   0,   0,   0,   0,   0,   0,\n",
       "          0,   0],\n",
       "       [  0,   0,   0,   0,   0,   0,   0,   0,   0,   0,   4,  85, 226,\n",
       "        232, 252, 183,  24,   2,   0,   0,   0,   0,   0,   0,   0,   0,\n",
       "          0,   0]], dtype=uint8)>"
      ]
     },
     "execution_count": 21,
     "metadata": {},
     "output_type": "execute_result"
    }
   ],
   "source": [
    "image"
   ]
  },
  {
   "cell_type": "code",
   "execution_count": 19,
   "metadata": {},
   "outputs": [],
   "source": [
    "serialized_tensor = tf.serialize_tensor(image)"
   ]
  },
  {
   "cell_type": "code",
   "execution_count": 22,
   "metadata": {},
   "outputs": [],
   "source": [
    "ls = tf.parse_tensor(serialized_tensor, tf.uint8)"
   ]
  },
  {
   "cell_type": "code",
   "execution_count": 23,
   "metadata": {},
   "outputs": [
    {
     "data": {
      "text/plain": [
       "<tf.Tensor: id=69, shape=(28, 28), dtype=uint8, numpy=\n",
       "array([[  0,   0,   0,   0,   0,   0,   0,   0,   0,   0,   0,   0,   0,\n",
       "          2, 173, 252, 246, 119,   2,   0,   0,   0,   0,   0,   0,   0,\n",
       "          0,   0],\n",
       "       [  0,   0,   0,   0,   0,   0,   0,   0,   0,   0,   0,   0,  19,\n",
       "        155, 255, 242,  74,   2,   0,   0,   0,   0,   0,   0,   0,   0,\n",
       "          0,   0],\n",
       "       [  0,   0,   0,   0,   0,   0,   0,   0,   0,   0,   0,   1, 154,\n",
       "        255, 225,  52,   1,   0,   0,   0,   0,   0,   0,   0,   0,   0,\n",
       "          0,   0],\n",
       "       [  0,   0,   0,   0,   0,   0,   0,   0,   0,   0,   0, 108, 237,\n",
       "        249,  93,   0,   0,   0,   0,   0,   0,   0,   0,   0,   0,   0,\n",
       "          0,   0],\n",
       "       [  0,   0,   0,   0,   0,   0,   0,   0,   0,   0,  29, 208, 253,\n",
       "        107,   2,   0,   0,   0,   0,   0,   0,   0,   0,   0,   0,   0,\n",
       "          0,   0],\n",
       "       [  0,   0,   0,   0,   0,   0,   0,   0,   1,  78, 200, 233, 157,\n",
       "          4,   0,   0,   0,   0,   0,   0,   0,   0,   0,   0,   0,   0,\n",
       "          0,   0],\n",
       "       [  0,   0,   0,   0,   0,   0,   0,   0,  29, 229, 253, 146,   5,\n",
       "          0,   0,   0,   0,   7,   9,   0,   0,   0,   0,   0,   0,   0,\n",
       "          0,   0],\n",
       "       [  0,   0,   0,   0,   0,   0,   0,  29, 199, 197, 186,  12,   0,\n",
       "          0,   0,   0,  32, 214, 212,  52,   1,   0,   0,   0,   0,   0,\n",
       "          0,   0],\n",
       "       [  0,   0,   0,   0,   0,   0,   3, 159, 250, 255, 152,   0,   0,\n",
       "          0,   2, 105, 228, 253, 254, 233, 143,  20,   0,   0,   0,   0,\n",
       "          0,   0],\n",
       "       [  0,   0,   0,   0,   0,  12,  49, 146, 242, 255, 158,   0,   0,\n",
       "        106, 191, 247, 246, 234, 255, 190, 230, 183,  42,   0,   0,   0,\n",
       "          0,   0],\n",
       "       [  0,   0,   0,   0,  17, 117, 245, 133,  75, 226, 223, 106,  95,\n",
       "        226, 255, 255, 254, 181, 132,  18,  15,  49, 188,  15,   0,   0,\n",
       "          0,   0],\n",
       "       [  0,   0,   0,  28, 212, 214, 244, 127,   4,  63, 242, 255, 255,\n",
       "        255, 255, 248, 174,  15,   0,   0,   0,   0, 120, 161,   8,   0,\n",
       "          0,   0],\n",
       "       [  0,   0,   4, 144, 229, 236, 217,  19,   0,   1,  56, 223, 255,\n",
       "        252, 133,  45,   5,   0,   0,   0,   0,   0, 119, 252,  74,   0,\n",
       "          0,   0],\n",
       "       [  0,   0,  32, 232, 255, 255, 186,   3,   0,   0,   0,  69, 168,\n",
       "         75,   0,   0,   0,   0,   0,   0,   0,   0,  24, 235, 150,   1,\n",
       "          0,   0],\n",
       "       [  0,   0,  62, 185, 249, 166,  37,   0,   0,   0,   0,   0,   0,\n",
       "          0,   0,   0,   0,   0,   0,   0,   0,   0,   0, 109, 196,  87,\n",
       "          0,   0],\n",
       "       [  0,   0,  39, 203, 114,  89,   0,   0,   0,   0,   0,   0,   0,\n",
       "          0,   0,   0,   0,   0,   0,   0,   0,   0,  10, 158, 100,  68,\n",
       "          0,   0],\n",
       "       [  0,   0,   3, 160, 220,  62,   0,   0,   0,   0,   0,   0,   0,\n",
       "          0,   0,   0,   0,   0,   0,   0,   0,   0,  30, 236, 180, 163,\n",
       "          0,   0],\n",
       "       [  0,   0,   0, 111,  92,   2,   0,   0,   0,   0,   0,   0,   0,\n",
       "          0,   0,   0,   0,   0,   0,   0,   0,   0, 110, 247, 177, 102,\n",
       "          0,   0],\n",
       "       [  0,   0,   0,  18,  24,   0,   0,   0,   0,   0,   0,   0,   0,\n",
       "          0,   0,   0,   0,   0,   0,   0,   0,   0, 138, 254, 223,  80,\n",
       "          0,   0],\n",
       "       [  0,   0,   0,   0,   0,   0,   0,   0,   0,   0,   0,   0,   0,\n",
       "          0,   0,   0,   0,   0,   0,   0,   0,  55, 211, 236,  59,  23,\n",
       "          0,   0],\n",
       "       [  0,   0,   0,   0,   0,   0,   0,   0,   0,   0,   0,   0,   0,\n",
       "          0,   0,   0,   0,   0,   0,   4, 115, 189, 244, 192,  19,  27,\n",
       "          0,   0],\n",
       "       [  0,   0,   0,   0,   0,   0,   0,   0,   0,   0,   0,   0,   0,\n",
       "          0,   0,   0,   0,   0,   2,  92, 116, 216, 144,  40,   3,   6,\n",
       "          0,   0],\n",
       "       [  0,   0,   0,   0,   0,   0,   0,   0,   0,   0,   0,   0,   0,\n",
       "          0,   0,   0,   0,   4, 165, 253, 130, 210,  73,   0,   0,   0,\n",
       "          0,   0],\n",
       "       [  0,   0,   0,   0,   0,   0,   0,   0,   0,   0,   0,   0,   0,\n",
       "          0,   0,   1,  51, 153, 246, 254, 224, 101,   5,   0,   0,   0,\n",
       "          0,   0],\n",
       "       [  0,   0,   0,   0,   0,   0,   0,   0,   0,   0,   0,   0,   0,\n",
       "          0,   0,  56, 238, 255, 246, 217,  60,   0,   0,   0,   0,   0,\n",
       "          0,   0],\n",
       "       [  0,   0,   0,   0,   0,   0,   0,   0,   0,   0,   0,   0,   0,\n",
       "          5,  76, 233, 255, 253, 164,  31,   0,   0,   0,   0,   0,   0,\n",
       "          0,   0],\n",
       "       [  0,   0,   0,   0,   0,   0,   0,   0,   0,   0,   0,   0,   8,\n",
       "         55, 230, 255, 248, 160,   6,   0,   0,   0,   0,   0,   0,   0,\n",
       "          0,   0],\n",
       "       [  0,   0,   0,   0,   0,   0,   0,   0,   0,   0,   4,  85, 226,\n",
       "        232, 252, 183,  24,   2,   0,   0,   0,   0,   0,   0,   0,   0,\n",
       "          0,   0]], dtype=uint8)>"
      ]
     },
     "execution_count": 23,
     "metadata": {},
     "output_type": "execute_result"
    }
   ],
   "source": [
    "ls"
   ]
  },
  {
   "cell_type": "code",
   "execution_count": null,
   "metadata": {},
   "outputs": [],
   "source": [
    "kminst_dataset"
   ]
  }
 ],
 "metadata": {
  "kernelspec": {
   "display_name": "Python 3",
   "language": "python",
   "name": "python3"
  },
  "language_info": {
   "codemirror_mode": {
    "name": "ipython",
    "version": 3
   },
   "file_extension": ".py",
   "mimetype": "text/x-python",
   "name": "python",
   "nbconvert_exporter": "python",
   "pygments_lexer": "ipython3",
   "version": "3.5.2"
  }
 },
 "nbformat": 4,
 "nbformat_minor": 2
}
